{
 "cells": [
  {
   "cell_type": "markdown",
   "metadata": {},
   "source": [
    "# <p style=\"background-color:#0b032d;font-family:newtimeroman;color:#f4c095;font-size:150%;text-align:center ;border-radius:10px 10px;\"> Análisis de Clústeres con K-Means </p>"
   ]
  },
  {
   "cell_type": "markdown",
   "metadata": {},
   "source": [
    "## Importar librerias"
   ]
  },
  {
   "cell_type": "code",
   "execution_count": 20,
   "metadata": {},
   "outputs": [],
   "source": [
    "import pandas as pd\n",
    "import numpy as np\n",
    "import matplotlib.pyplot as plt\n",
    "import seaborn as sns\n",
    "sns.set()\n",
    "from sklearn.preprocessing import StandardScaler\n",
    "from sklearn.cluster import KMeans\n",
    "import copy"
   ]
  },
  {
   "cell_type": "markdown",
   "metadata": {},
   "source": [
    "## Importar data"
   ]
  },
  {
   "cell_type": "code",
   "execution_count": null,
   "metadata": {},
   "outputs": [],
   "source": [
    "# Importar datos\n",
    "# r : evitar problemas con la barras invertidas\n",
    "data = pd.read_csv(r'data\\telefonica.csv', sep= \",\", index_col=\"IDCliente\")\n",
    "data.head(3)"
   ]
  },
  {
   "cell_type": "code",
   "execution_count": null,
   "metadata": {},
   "outputs": [],
   "source": [
    "data.describe()"
   ]
  },
  {
   "cell_type": "markdown",
   "metadata": {},
   "source": [
    "Nota: <br>\n",
    "\n",
    "* Aparentemente no hay datos faltantes en ninguna de las variables\n",
    "* En el data set contiene en igual proporcion tanto el genero masculino como femenino\n",
    "* En promedio los clientes poseen dos años y 6 meses, no son clientes nuevos\n",
    "* El %90,3 de los clientes tienen linea telefonica \n",
    "* El %42,1 de los clientes cuentan con multiples servicios \n",
    "* El %26,5 de los clientes abandonan la empresa."
   ]
  },
  {
   "cell_type": "markdown",
   "metadata": {},
   "source": [
    "## Mapa de calor"
   ]
  },
  {
   "cell_type": "code",
   "execution_count": null,
   "metadata": {},
   "outputs": [],
   "source": [
    "plt.figure(figsize= (20, 10))\n",
    "sns.heatmap(\n",
    "    data= data.corr(),\n",
    "    annot= True,\n",
    "    cmap=\"RdBu\",\n",
    "    vmin= -1,\n",
    "    vmax= 1\n",
    ")\n",
    "plt.show()"
   ]
  },
  {
   "cell_type": "markdown",
   "metadata": {},
   "source": [
    "Nota:\n",
    "\n",
    "*Baja probabilidad de no abandono*<br>\n",
    "\n",
    "* **tipo contrato:** Los clientes con contrato a un año o 2 años tienen menos probabilidad de abandono\n",
    "* **meses:**: Los clientes antiguos tienen menos probabilidades de abandono\n",
    "* **casados:**\n",
    "* **dependientes** o personas a su cargo\n",
    "* **Soporte:** Clientes con soporte tecnico \n",
    "\n",
    "*Mayor probabilidad de abandono*<br>\n",
    "\n",
    "* **Personas con internet** \n",
    "* **Tercera edad**\n",
    "* **factura electronica** \n",
    "* **MetodoPago:** Entre más complejo sea el metodo de pago mas probabilidades de abandono\n",
    "* **Factura electronica:** \n",
    "* **Striming tv** y **Deportes** : cada una pesa alrededor del %6 respectivamente "
   ]
  },
  {
   "cell_type": "markdown",
   "metadata": {},
   "source": [
    "## Estandarizar datos"
   ]
  },
  {
   "cell_type": "code",
   "execution_count": 225,
   "metadata": {},
   "outputs": [],
   "source": [
    "# crear objeto standar\n",
    "standar = StandardScaler()\n",
    "\n",
    "# Estandarizar los datos\n",
    "data_std = standar.fit_transform(data)"
   ]
  },
  {
   "cell_type": "code",
   "execution_count": null,
   "metadata": {},
   "outputs": [],
   "source": [
    "# Mostrar datos, Estos datos muestras a cuantas desviaciones estandar están los datos \n",
    "data_std"
   ]
  },
  {
   "cell_type": "markdown",
   "metadata": {},
   "source": [
    "## Determinar  K con el método del codo\n",
    "\n",
    "Within cluster sum of squares = suma de cuadrados dentro delos clusteres (varianza)"
   ]
  },
  {
   "cell_type": "code",
   "execution_count": 227,
   "metadata": {},
   "outputs": [],
   "source": [
    "# calcular el within cluster sum of square\n",
    "wcss = []\n",
    "for i in range(1, 11):\n",
    "    kmean = KMeans(n_clusters= i, init= \"k-means++\", random_state= 99)\n",
    "    kmean.fit(data_std)\n",
    "    wcss.append(kmean.inertia_)"
   ]
  },
  {
   "cell_type": "code",
   "execution_count": null,
   "metadata": {},
   "outputs": [],
   "source": [
    "# Grafica del codo\n",
    "plt.figure( figsize = (10,5))\n",
    "plt.plot(range(1,11), wcss, marker = \"o\")\n",
    "plt.xlabel('Núero de cluster')\n",
    "plt.ylabel('Suma de las distancias al cuadrado dentro del clusteres')\n",
    "plt.show()"
   ]
  },
  {
   "cell_type": "markdown",
   "metadata": {},
   "source": [
    "**Nota:**\n",
    "+ Apartir de cluster \"4\" la variaza no cambia en gran medida.\n",
    "+ Los candidatos sestá en el cluster 4 y 5, eneste caso se tomará el 4"
   ]
  },
  {
   "cell_type": "markdown",
   "metadata": {},
   "source": [
    "# Implementando K-Means Cluster "
   ]
  },
  {
   "cell_type": "code",
   "execution_count": null,
   "metadata": {},
   "outputs": [],
   "source": [
    "# Crear el objeto cluster\n",
    "cluster_4 = KMeans(n_clusters=4, init=\"k-means++\", random_state=99)\n",
    "\n",
    "# Hacer el fit con los datos standarizados\n",
    "cluster_4.fit(data_std)"
   ]
  },
  {
   "cell_type": "markdown",
   "metadata": {},
   "source": [
    "## Resultados<br>\n",
    "- copiar los daros originales para gregar etiquetas\n",
    "- esto es para optener las etiquetas y saber cual cluster le corresponde a cada uno"
   ]
  },
  {
   "cell_type": "code",
   "execution_count": 230,
   "metadata": {},
   "outputs": [],
   "source": [
    "# Copiar datos para incertar el laber \"etiqueta cluster\"\n",
    "data_copy = copy.deepcopy(data)"
   ]
  },
  {
   "cell_type": "code",
   "execution_count": 231,
   "metadata": {},
   "outputs": [],
   "source": [
    "# Agregar etiquetas al dataframe original\n",
    "data_copy['Cluster']= cluster_4.labels_"
   ]
  },
  {
   "cell_type": "code",
   "execution_count": null,
   "metadata": {},
   "outputs": [],
   "source": [
    "# Mostrar datos\n",
    "data_copy.head(3)"
   ]
  },
  {
   "cell_type": "code",
   "execution_count": null,
   "metadata": {},
   "outputs": [],
   "source": [
    "# Analizar la media de los datos teniendo en cunata el numero de cluster\n",
    "# Esto se hace sacando la media de los datos y agrupando por cluster\n",
    "\n",
    "df_analisis = data_copy.groupby('Cluster').mean()\n",
    "# Mostrar la media de los grupos/Clusteres\n",
    "df_analisis"
   ]
  },
  {
   "cell_type": "code",
   "execution_count": 234,
   "metadata": {},
   "outputs": [],
   "source": [
    "# Crear un archivo excel para analizar con mayor facilidad los resultados y guardar en carpeta data\n",
    "# r : evitar problemas con la barras invertidas\n",
    "# df_analisis.to_excel(r\"data/resumen cluster.xlsx\")"
   ]
  },
  {
   "cell_type": "markdown",
   "metadata": {},
   "source": [
    "**Tip para evaluar resultados:** <br>\n",
    "\n",
    "1. Identificar valores promedios más altos y bajos de las variables relevates compandos con los demas closteres.\n",
    "2. Recapitular o hacer un resumen donde de los resultados\n",
    "3. Con base a lo anteriror colocar label o etiquetas a los clusteres Ejemplo: Adultos mayores, madres con ingresos altos etc.\n",
    "---\n",
    "\n"
   ]
  },
  {
   "cell_type": "markdown",
   "metadata": {},
   "source": [
    "**Análisis de resultados:** <br>\n",
    "\n",
    "Generalidades:\n",
    "- El género no es relevante\n",
    "\n",
    "\n",
    "**Cluster 0:** <br>\n",
    "1. Es el grupo con mayor proporción de personas mayores.\n",
    "2. No tienen interés en servicios telefónicos.\n",
    "3. No les interesan las líneas múltiples; solo quieren internet básico.\n",
    "4. Son el segundo grupo que contrata más servicios adicionales.\n",
    "5. Es el que tiene una menos probabilidad de abandono<br>\n",
    "\n",
    "**\"Adultos mayores con Internet Básico\"** <br>\n",
    "Descripción: Este clúster está compuesto por personas mayores que no tienen interés en servicios telefónicos o líneas múltiples, y solo buscan un servicio de internet básico. Contratan una cantidad moderada de servicios adicionales. <br><br>\n",
    "\n",
    "**Cluster 1:** <br>\n",
    "\n",
    "1.Es el segundo grupo con mayor proporción de personas casadas.\n",
    "2. Tienen la mayor cantidad de dependientes.\n",
    "3. Son el segundo grupo más antiguo.\n",
    "4. Tienen una alta cantidad de líneas múltiples.\n",
    "5. No les interesa mucho los servicios adicionales como TV, películas, seguridad, respaldo, entre otros; solo priorizan el internet de alta velocidad.\n",
    "6. Son el segmento con el contrato más largo.\n",
    "7. Prefieren facturas en papel.\n",
    "8. Prefieren métodos de pago físicos sobre los electrónicos.\n",
    "9. Generan menos ingresos para la empresa. <br>\n",
    "\n",
    "**\"Familias Tradicionales con Alta Estabilidad\"**\n",
    "Descripción: Este clúster está formado por personas casadas con muchos dependientes y una preferencia por el internet de alta velocidad. Tienen contratos largos y prefieren métodos de pago y facturas físicos. Generan menos ingresos para la empresa. <br><br>\n",
    "\n",
    "**Cluster 2:** <br>\n",
    "\n",
    "1. Es el grupo más joven.\n",
    "2. En su mayoría son solteros.\n",
    "3. Tienen pocos dependientes.\n",
    "4. Son el grupo con menos tiempo en la empresa.\n",
    "5. Valoran mucho tener fibra óptica.\n",
    "6. Son el segundo grupo con más líneas múltiples.\n",
    "7. Tienen el contrato más corto.\n",
    "8. Prefieren facturas electrónicas.\n",
    "9. Son el segundo grupo que más ingresos genera para la empresa.\n",
    "10. El cliente que la mayor probabilidad de abandona <br>\n",
    "\n",
    "**\"Jóvenes Solteros / Gamers**\n",
    "Descripción: Este clúster consiste en personas jóvenes y solteras con pocos dependientes, que valoran mucho tener fibra óptica y prefieren facturas electrónicas. Son el segundo grupo en cuanto a líneas múltiples y generan buenos ingresos para la empresa <br><br>\n",
    "\n",
    "\n",
    "**Cluster 3:** <br>\n",
    "\n",
    "1. La mayoría están casados.\n",
    "2. Tienen una alta cantidad de dependientes.\n",
    "3. Son el grupo más antiguo.\n",
    "4. Tienen el mayor número de líneas múltiples.\n",
    "5. Valoran tener buena calidad de internet.\n",
    "6. Les importa mucho tener soporte técnico, seguridad, TV y películas.\n",
    "7. Tienen los contratos más largos.\n",
    "8. Prefieren utilizar medios electrónicos para la notificación de su recibo.\n",
    "9. Prefieren pagar por medios electrónicos como transferencias bancarias o tarjetas de crédito.\n",
    "10. Son el grupo que más ingresos genera para la empresa. <br>\n",
    "\n",
    "**\"Usuarios Rentables\"**\n",
    "Descripción: Este clúster está compuesto por personas casadas con muchos dependientes, que valoran tener buena calidad de internet, soporte técnico, seguridad, TV y películas. Tienen contratos largos y prefieren medios electrónicos tanto para la facturación como para los pagos. Generan los mayores ingresos para la empresa."
   ]
  }
 ],
 "metadata": {
  "kernelspec": {
   "display_name": "_ven",
   "language": "python",
   "name": "python3"
  },
  "language_info": {
   "codemirror_mode": {
    "name": "ipython",
    "version": 3
   },
   "file_extension": ".py",
   "mimetype": "text/x-python",
   "name": "python",
   "nbconvert_exporter": "python",
   "pygments_lexer": "ipython3",
   "version": "3.13.0"
  }
 },
 "nbformat": 4,
 "nbformat_minor": 2
}
